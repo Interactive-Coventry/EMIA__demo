{
 "cells": [
  {
   "cell_type": "code",
   "execution_count": 72,
   "id": "1a047c5e-f2e9-45fa-8dad-9f26fbdf251f",
   "metadata": {},
   "outputs": [],
   "source": [
    "from libs.foxutils.utils.core_utils import settings\n",
    "import firebase_admin\n",
    "from firebase_admin import credentials\n",
    "from google.oauth2 import service_account\n",
    "import streamlit as st\n",
    "from google.cloud import firestore\n",
    "import pandas as pd\n",
    "\n",
    "key_dict = dict(st.secrets[\"firebase\"])\n",
    "FIREBASE_PROJECT_NAME = settings[\"FIREBASE\"][\"project_name\"]\n",
    "creds = service_account.Credentials.from_service_account_info(key_dict)\n",
    "db = firestore.Client(credentials=creds, project=FIREBASE_PROJECT_NAME)\n",
    "\n"
   ]
  },
  {
   "cell_type": "code",
   "execution_count": 6,
   "id": "b85a384f-1832-43fa-873c-13221f776e7b",
   "metadata": {},
   "outputs": [
    {
     "name": "stdout",
     "output_type": "stream",
     "text": [
      "  camera_id         lng       lat  update_frequency  camera_type\n",
      "0      1001  103.871146  1.295313            3000.0            0\n",
      "1      1002  103.878563  1.319541            3000.0            0\n",
      "2      1003  103.872858  1.323957            3000.0            0\n",
      "3      1004  103.875067  1.319536            3000.0            0\n",
      "4      1005  103.905394  1.363520            3000.0            0\n"
     ]
    }
   ],
   "source": [
    "# Path to your CSV file\n",
    "csv_file_path = 'C:\\\\Users\\\\foxel\\\\Desktop\\\\camera_specs.csv'\n",
    "# Collection name in Firestore\n",
    "collection_name = 'camera_specs'\n",
    "\n",
    "df = pd.read_csv(csv_file_path)\n",
    "print(df.head())\n",
    "\n",
    "\n",
    "# Add DataFrame rows to Firestore\n",
    "for index, row in df.iterrows():\n",
    "    document_id = row['camera_id']\n",
    "    \n",
    "    doc_ref = db.collection(collection_name).document(document_id)\n",
    "    \n",
    "    # Update or set the document with the data from the DataFrame row\n",
    "    doc_ref.set(row.to_dict(), merge=True)  # `merge=True` to update existing fields or add new ones"
   ]
  },
  {
   "cell_type": "code",
   "execution_count": 14,
   "id": "b871013a-9e26-4fe2-90f6-ba351512d13c",
   "metadata": {},
   "outputs": [
    {
     "name": "stdout",
     "output_type": "stream",
     "text": [
      "             datetime                 camera_id        lat       lng\n",
      "0 2024-02-29 17:42:37  6206af3f2ac0770155d598c1  37.404285  22.71935\n",
      "1 2024-02-29 17:42:42  6206af3f2ac0770155d598c1  37.404285  22.71935\n",
      "2 2024-02-29 17:42:51  6206af3f2ac0770155d598c1  37.404285  22.71935\n",
      "3 2024-02-29 17:42:56  6206af3f2ac0770155d598c1  37.404285  22.71935\n",
      "4 2024-02-29 17:43:01  6206af3f2ac0770155d598c1  37.404285  22.71935\n"
     ]
    }
   ],
   "source": [
    "# Path to your CSV file\n",
    "csv_file_path = 'C:\\\\Users\\\\foxel\\\\Desktop\\\\dashcams.csv'\n",
    "# Collection name in Firestore\n",
    "collection_name = 'dashcams'\n",
    "\n",
    "df = pd.read_csv(csv_file_path)\n",
    "df[\"datetime\"] = [pd.to_datetime(x) for x in df[\"datetime\"]]\n",
    "print(df.head())\n",
    "\n",
    "\n",
    "# Add DataFrame rows to Firestore\n",
    "for index, row in df.iterrows():\n",
    "    document_id = f\"{row['datetime']}_{row['camera_id']}\"\n",
    "    \n",
    "    doc_ref = db.collection(collection_name).document(document_id)\n",
    "    \n",
    "    # Update or set the document with the data from the DataFrame row\n",
    "    doc_ref.set(row.to_dict(), merge=True)  # `merge=True` to update existing fields or add new ones"
   ]
  },
  {
   "cell_type": "code",
   "execution_count": 13,
   "id": "a57c1e0c-9634-4c4f-8340-07b3241ec6a7",
   "metadata": {},
   "outputs": [
    {
     "name": "stdout",
     "output_type": "stream",
     "text": [
      "             datetime camera_id  anomaly_type  weather_type  wetness_type\n",
      "0 2024-07-21 05:10:27      1703             1             1             0\n",
      "1 2024-07-21 05:15:31      1703             1             3             2\n"
     ]
    }
   ],
   "source": [
    "# Path to your CSV file\n",
    "csv_file_path = 'C:\\\\Users\\\\foxel\\\\Desktop\\\\image_analysis.csv'\n",
    "# Collection name in Firestore\n",
    "collection_name = 'image_analysis'\n",
    "\n",
    "df = pd.read_csv(csv_file_path)\n",
    "df[\"camera_id\"] = [str(x) for x in df[\"camera_id\"]]\n",
    "df[\"datetime\"] = [pd.to_datetime(x) for x in df[\"datetime\"]]\n",
    "\n",
    "print(df.head())\n",
    "\n",
    "\n",
    "# Add DataFrame rows to Firestore\n",
    "for index, row in df.iterrows():\n",
    "    document_id = f\"{row['datetime']}_{row['camera_id']}\"\n",
    "    \n",
    "    doc_ref = db.collection(collection_name).document(document_id)\n",
    "    \n",
    "    # Update or set the document with the data from the DataFrame row\n",
    "    doc_ref.set(row.to_dict(), merge=True)  # `merge=True` to update existing fields or add new ones"
   ]
  },
  {
   "cell_type": "code",
   "execution_count": 16,
   "id": "4c65fe9e-4aba-41eb-a6a0-170c34bc7fd8",
   "metadata": {},
   "outputs": [
    {
     "name": "stdout",
     "output_type": "stream",
     "text": [
      "             datetime camera_id  total_pedestrians  total_vehicles  bicycle  \\\n",
      "0 2023-10-26 05:31:27      1703                  0               2        0   \n",
      "1 2023-10-26 05:35:56      1703                  0               1        0   \n",
      "2 2023-10-26 05:40:57      1703                  0               1        0   \n",
      "3 2023-10-26 05:46:19      1703                  0               2        0   \n",
      "4 2023-10-26 05:50:47      1703                  0               3        0   \n",
      "\n",
      "   bus  motorcycle  person  truck  car  \n",
      "0    0           0       0      0    2  \n",
      "1    0           0       0      0    1  \n",
      "2    0           0       0      0    1  \n",
      "3    1           0       0      1    0  \n",
      "4    0           0       0      0    3  \n",
      "{'datetime': Timestamp('2023-10-26 05:31:27'), 'camera_id': '1703', 'total_pedestrians': 0, 'total_vehicles': 2, 'bicycle': 0, 'bus': 0, 'motorcycle': 0, 'person': 0, 'truck': 0, 'car': 2}\n"
     ]
    }
   ],
   "source": [
    "# Path to your CSV file\n",
    "csv_file_path = 'C:\\\\Users\\\\foxel\\\\Desktop\\\\vehicle_counts.csv'\n",
    "# Collection name in Firestore\n",
    "collection_name = 'vehicle_counts'\n",
    "\n",
    "df = pd.read_csv(csv_file_path)\n",
    "df[\"camera_id\"] = [str(x) for x in df[\"camera_id\"]]\n",
    "df[\"datetime\"] = [pd.to_datetime(x) for x in df[\"datetime\"]]\n",
    "\n",
    "print(df.head())\n",
    "\n",
    "\n",
    "# Add DataFrame rows to Firestore\n",
    "for index, row in df.iterrows():\n",
    "    document_id = f\"{row['datetime']}_{row['camera_id']}\"\n",
    "    \n",
    "    doc_ref = db.collection(collection_name).document(document_id)\n",
    "    # Update or set the document with the data from the DataFrame row\n",
    "    doc_ref.set(row.to_dict(), merge=True)  # `merge=True` to update existing fields or add new ones"
   ]
  },
  {
   "cell_type": "code",
   "execution_count": 12,
   "id": "42727036-2af1-4802-bf83-f4fbd11290b8",
   "metadata": {},
   "outputs": [
    {
     "name": "stdout",
     "output_type": "stream",
     "text": [
      "             datetime    temp  feels_like  temp_min  temp_max  pressure  \\\n",
      "0 2023-05-02 15:37:00  306.06      313.06    304.84    306.17      1006   \n",
      "1 2023-05-02 15:44:00  306.06      313.06    304.84    306.17      1006   \n",
      "2 2023-05-02 15:49:00  306.06      313.06    304.84    306.17      1006   \n",
      "3 2023-05-02 16:00:00  306.28      313.28    304.84    307.18      1006   \n",
      "4 2023-05-02 16:11:00  305.58      312.58    304.17    307.12      1006   \n",
      "\n",
      "   humidity  wind_speed  wind_deg  clouds_all  visibility     lat       lon  \\\n",
      "0        62        5.14        90          75       10000  1.2897  103.8501   \n",
      "1        62        5.14        90          75       10000  1.2897  103.8501   \n",
      "2        62        5.14        90          75       10000  1.2897  103.8501   \n",
      "3        62        5.14        90          75       10000  1.2897  103.8501   \n",
      "4        64        5.14         0          75       10000  1.2897  103.8501   \n",
      "\n",
      "           dt  timezone  weather_id weather description  \n",
      "0  1683013031     28800         NaN     nan         nan  \n",
      "1  1683013461     28800         NaN     nan         nan  \n",
      "2  1683013730     28800         NaN     nan         nan  \n",
      "3  1683014410     28800         NaN     nan         nan  \n",
      "4  1683015086     28800         NaN     nan         nan  \n",
      "datetime       datetime64[ns]\n",
      "temp                  float64\n",
      "feels_like            float64\n",
      "temp_min              float64\n",
      "temp_max              float64\n",
      "pressure                int64\n",
      "humidity                int64\n",
      "wind_speed            float64\n",
      "wind_deg                int64\n",
      "clouds_all              int64\n",
      "visibility              int64\n",
      "lat                   float64\n",
      "lon                   float64\n",
      "dt                      int64\n",
      "timezone                int64\n",
      "weather_id            float64\n",
      "weather                object\n",
      "description            object\n",
      "dtype: object\n"
     ]
    }
   ],
   "source": [
    "# Path to your CSV file\n",
    "csv_file_path = 'C:\\\\Users\\\\foxel\\\\Desktop\\\\weather.csv'\n",
    "# Collection name in Firestore\n",
    "collection_name = 'weather'\n",
    "\n",
    "df = pd.read_csv(csv_file_path)\n",
    "df[\"datetime\"] = [pd.to_datetime(x) for x in df[\"datetime\"]]\n",
    "df[\"description\"] = [str(x) for x in df[\"description\"]]\n",
    "df[\"weather\"] = [str(x) for x in df[\"weather\"]]\n",
    "print(df.head())\n",
    "print(df.dtypes)\n",
    "\n",
    "\n",
    "# Add DataFrame rows to Firestore\n",
    "for index, row in df.iterrows():\n",
    "    document_id = f\"{row['datetime']}\"\n",
    "    \n",
    "    doc_ref = db.collection(collection_name).document(document_id)\n",
    "    \n",
    "    # Update or set the document with the data from the DataFrame row\n",
    "    doc_ref.set(row.to_dict(), merge=True)  # `merge=True` to update existing fields or add new ones"
   ]
  },
  {
   "cell_type": "code",
   "execution_count": 13,
   "id": "2944421e-8999-4e2c-a2ac-27046497d20b",
   "metadata": {},
   "outputs": [
    {
     "name": "stdout",
     "output_type": "stream",
     "text": [
      "             datetime    temp  feels_like  temp_min  temp_max  pressure  \\\n",
      "0 2024-07-21 04:47:10  302.11      307.57    301.17    302.12      1009   \n",
      "1 2024-07-21 05:00:04  302.07      307.46    301.17    302.07      1009   \n",
      "2 2024-07-21 05:02:00  302.07      307.46    301.17    302.07      1009   \n",
      "3 2024-07-21 05:10:30  302.11      307.57    301.17    302.12      1009   \n",
      "4 2024-07-21 05:19:49  302.11      307.57    302.07    302.17      1009   \n",
      "\n",
      "   humidity  wind_speed  wind_deg  clouds_all  visibility     lat       lon  \\\n",
      "0        79        4.63       140          75       10000  1.2897  103.8501   \n",
      "1        79        4.63       140          75       10000  1.2897  103.8501   \n",
      "2        79        4.63       140          75       10000  1.2897  103.8501   \n",
      "3        79        3.09       140          75       10000  1.2897  103.8501   \n",
      "4        79        3.09       140          75       10000  1.2897  103.8501   \n",
      "\n",
      "           dt  timezone  weather_id weather    description  \n",
      "0  1721508430     28800         803  Clouds  broken clouds  \n",
      "1  1721509204     28800         803  Clouds  broken clouds  \n",
      "2  1721509320     28800         803  Clouds  broken clouds  \n",
      "3  1721509830     28800         803  Clouds  broken clouds  \n",
      "4  1721510389     28800         803  Clouds  broken clouds  \n",
      "datetime       datetime64[ns]\n",
      "temp                  float64\n",
      "feels_like            float64\n",
      "temp_min              float64\n",
      "temp_max              float64\n",
      "pressure                int64\n",
      "humidity                int64\n",
      "wind_speed            float64\n",
      "wind_deg                int64\n",
      "clouds_all              int64\n",
      "visibility              int64\n",
      "lat                   float64\n",
      "lon                   float64\n",
      "dt                      int64\n",
      "timezone                int64\n",
      "weather_id              int64\n",
      "weather                object\n",
      "description            object\n",
      "dtype: object\n"
     ]
    }
   ],
   "source": [
    "# Path to your CSV file\n",
    "csv_file_path = 'C:\\\\Users\\\\foxel\\\\Desktop\\\\weather2.csv'\n",
    "# Collection name in Firestore\n",
    "collection_name = 'weather2'\n",
    "\n",
    "df = pd.read_csv(csv_file_path)\n",
    "df[\"datetime\"] = [pd.to_datetime(x) for x in df[\"datetime\"]]\n",
    "#df[\"datetime\"] = df[\"datetime\"].astype(str)\n",
    "df[\"description\"] = [str(x) for x in df[\"description\"]]\n",
    "df[\"weather\"] = [str(x) for x in df[\"weather\"]]\n",
    "print(df.head())\n",
    "print(df.dtypes)\n",
    "\n",
    "\n",
    "# Add DataFrame rows to Firestore\n",
    "for index, row in df.iterrows():\n",
    "    document_id = f\"{row['datetime']}\"\n",
    "    \n",
    "    doc_ref = db.collection(collection_name).document(document_id)\n",
    "    \n",
    "    # Update or set the document with the data from the DataFrame row\n",
    "    doc_ref.set(row.to_dict(), merge=True)  # `merge=True` to update existing fields or add new ones"
   ]
  },
  {
   "cell_type": "code",
   "execution_count": 37,
   "id": "561c25a8-cf1b-4485-b428-e0853dabe80f",
   "metadata": {},
   "outputs": [],
   "source": [
    "def fetch_collection_as_dataframe(collection_name):\n",
    "    # Fetch all documents in the specified collection\n",
    "    docs = db.collection(collection_name).stream()\n",
    "    \n",
    "    # Parse documents into a list of dictionaries\n",
    "    data = [doc.to_dict() for doc in docs]\n",
    "    \n",
    "    # Create a DataFrame from the list of dictionaries\n",
    "    df = pd.DataFrame(data)\n",
    "    return df"
   ]
  },
  {
   "cell_type": "code",
   "execution_count": null,
   "id": "c8bf68df-15c6-4bae-8fb0-db7fc14218d5",
   "metadata": {},
   "outputs": [],
   "source": [
    "\n",
    "df = fetch_collection_as_dataframe( 'weather2')\n",
    "#df[\"datetime\"] = df[\"datetime\"].astype(str)\n",
    "print(df.dtypes)\n"
   ]
  },
  {
   "cell_type": "code",
   "execution_count": 27,
   "id": "a427ae9a-56fc-4b51-b4f3-baa7aa5a31dc",
   "metadata": {},
   "outputs": [
    {
     "data": {
      "text/html": [
       "<div>\n",
       "<style scoped>\n",
       "    .dataframe tbody tr th:only-of-type {\n",
       "        vertical-align: middle;\n",
       "    }\n",
       "\n",
       "    .dataframe tbody tr th {\n",
       "        vertical-align: top;\n",
       "    }\n",
       "\n",
       "    .dataframe thead th {\n",
       "        text-align: right;\n",
       "    }\n",
       "</style>\n",
       "<table border=\"1\" class=\"dataframe\">\n",
       "  <thead>\n",
       "    <tr style=\"text-align: right;\">\n",
       "      <th></th>\n",
       "      <th>id</th>\n",
       "      <th>motorcycle</th>\n",
       "      <th>datetime</th>\n",
       "      <th>person</th>\n",
       "      <th>car</th>\n",
       "      <th>total_pedestrians</th>\n",
       "      <th>total_vehicles</th>\n",
       "      <th>camera_id</th>\n",
       "      <th>truck</th>\n",
       "      <th>bus</th>\n",
       "      <th>bicycle</th>\n",
       "    </tr>\n",
       "  </thead>\n",
       "  <tbody>\n",
       "    <tr>\n",
       "      <th>0</th>\n",
       "      <td>2024-10-16T03:55:03Z</td>\n",
       "      <td>0</td>\n",
       "      <td>2024-10-16T03:55:03Z</td>\n",
       "      <td>0</td>\n",
       "      <td>0</td>\n",
       "      <td>0</td>\n",
       "      <td>0</td>\n",
       "      <td>1003</td>\n",
       "      <td>0</td>\n",
       "      <td>0</td>\n",
       "      <td>0</td>\n",
       "    </tr>\n",
       "  </tbody>\n",
       "</table>\n",
       "</div>"
      ],
      "text/plain": [
       "                     id  motorcycle              datetime  person  car  \\\n",
       "0  2024-10-16T03:55:03Z           0  2024-10-16T03:55:03Z       0    0   \n",
       "\n",
       "   total_pedestrians  total_vehicles camera_id  truck  bus  bicycle  \n",
       "0                  0               0      1003      0    0        0  "
      ]
     },
     "execution_count": 27,
     "metadata": {},
     "output_type": "execute_result"
    }
   ],
   "source": [
    "from emia_utils import database_utils\n",
    "current_date = \"2024-10-16T04:15:21Z\"\n",
    "camera_id = \"1003\"\n",
    "camera_id_key_name = \"camera_id\"\n",
    "batch_size = 4\n",
    "params = {\"where\": [[\"datetime\", \"<=\", current_date],\n",
    "                        [camera_id_key_name, \"==\", str(camera_id)]],\n",
    "              \"order_by\": [\"datetime\", firestore.Query.ASCENDING],\n",
    "              \"limit\": batch_size}\n",
    "df_vehicles = database_utils.read_table_with_select(\"vehicle_counts\", params, db)\n",
    "df_vehicles.head()"
   ]
  },
  {
   "cell_type": "code",
   "execution_count": 93,
   "id": "cc44c1fc-4c50-4cc6-8e99-94a544aee64f",
   "metadata": {},
   "outputs": [
    {
     "name": "stdout",
     "output_type": "stream",
     "text": [
      "2024-10-17 21:50:00\n",
      "4   2024-10-17 21:44:26+00:00\n",
      "3   2024-10-17 21:40:33+00:00\n",
      "2   2024-10-17 21:35:05+00:00\n",
      "1   2024-10-17 21:33:04+00:00\n",
      "0   2024-10-17 21:29:26+00:00\n",
      "Name: datetime, dtype: datetime64[ns, UTC]\n"
     ]
    },
    {
     "data": {
      "text/plain": [
       "4    2024-10-17T21:44:26Z\n",
       "3    2024-10-17T21:40:33Z\n",
       "2    2024-10-17T21:35:05Z\n",
       "1    2024-10-17T21:33:04Z\n",
       "0    2024-10-17T21:29:26Z\n",
       "Name: datetime, dtype: object"
      ]
     },
     "execution_count": 93,
     "metadata": {},
     "output_type": "execute_result"
    }
   ],
   "source": [
    "from emia_utils import database_utils\n",
    "from datetime import datetime \n",
    "import pytz\n",
    "\n",
    "#tz = pytz.timezone('Asia/Singapore')\n",
    "#current_date = datetime.now(tz)\n",
    "current_date = datetime(2024,10,17, 21, 50, 00)\n",
    "\n",
    "print(current_date)\n",
    "\n",
    "#current_date = \"2024-10-16T04:15:21Z\"\n",
    "camera_id = \"1003\"\n",
    "camera_id_key_name = \"camera_id\"\n",
    "batch_size = 5\n",
    "params = {\"where\": [[\"datetime\", \"<=\", current_date]],\n",
    "          \"order_by\": [\"datetime\", firestore.Query.ASCENDING],\n",
    "          \"limit\": batch_size}\n",
    "df_weather = database_utils.read_table_with_select(\"weather\", params, db)\n",
    "df_weather = df_weather[::-1]\n",
    "\n",
    "#pytz.utc.localize(x.replace(tzinfo=None)).astimezone(pytz.utc).timestamp()\n",
    "print(df_weather['datetime'])\n",
    "df_weather['datetime'] = [x.strftime(\"%Y-%m-%dT%H:%M:%SZ\") for x in df_weather['datetime']]\n",
    "                                                \n",
    "\n",
    "df_weather['datetime']"
   ]
  },
  {
   "cell_type": "code",
   "execution_count": null,
   "id": "ff619708-1e42-45b4-8769-c15da0ca076f",
   "metadata": {},
   "outputs": [],
   "source": []
  }
 ],
 "metadata": {
  "kernelspec": {
   "display_name": "Python 3 (ipykernel)",
   "language": "python",
   "name": "python3"
  },
  "language_info": {
   "codemirror_mode": {
    "name": "ipython",
    "version": 3
   },
   "file_extension": ".py",
   "mimetype": "text/x-python",
   "name": "python",
   "nbconvert_exporter": "python",
   "pygments_lexer": "ipython3",
   "version": "3.9.13"
  }
 },
 "nbformat": 4,
 "nbformat_minor": 5
}
