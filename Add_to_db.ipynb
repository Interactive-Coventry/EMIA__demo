{
 "cells": [
  {
   "cell_type": "code",
   "execution_count": 2,
   "id": "1a047c5e-f2e9-45fa-8dad-9f26fbdf251f",
   "metadata": {},
   "outputs": [],
   "source": [
    "from libs.foxutils.utils.core_utils import settings\n",
    "import firebase_admin\n",
    "from firebase_admin import credentials\n",
    "from google.oauth2 import service_account\n",
    "import streamlit as st\n",
    "from google.cloud import firestore\n",
    "import pandas as pd\n",
    "\n",
    "key_dict = dict(st.secrets[\"firebase\"])\n",
    "FIREBASE_PROJECT_NAME = settings[\"FIREBASE\"][\"project_name\"]\n",
    "creds = service_account.Credentials.from_service_account_info(key_dict)\n",
    "db = firestore.Client(credentials=creds, project=FIREBASE_PROJECT_NAME)\n",
    "\n"
   ]
  },
  {
   "cell_type": "code",
   "execution_count": 6,
   "id": "b85a384f-1832-43fa-873c-13221f776e7b",
   "metadata": {},
   "outputs": [
    {
     "name": "stdout",
     "output_type": "stream",
     "text": [
      "  camera_id         lng       lat  update_frequency  camera_type\n",
      "0      1001  103.871146  1.295313            3000.0            0\n",
      "1      1002  103.878563  1.319541            3000.0            0\n",
      "2      1003  103.872858  1.323957            3000.0            0\n",
      "3      1004  103.875067  1.319536            3000.0            0\n",
      "4      1005  103.905394  1.363520            3000.0            0\n"
     ]
    }
   ],
   "source": [
    "# Path to your CSV file\n",
    "csv_file_path = 'C:\\\\Users\\\\foxel\\\\Desktop\\\\camera_specs.csv'\n",
    "# Collection name in Firestore\n",
    "collection_name = 'camera_specs'\n",
    "\n",
    "df = pd.read_csv(csv_file_path)\n",
    "print(df.head())\n",
    "\n",
    "\n",
    "# Add DataFrame rows to Firestore\n",
    "for index, row in df.iterrows():\n",
    "    document_id = row['camera_id']\n",
    "    \n",
    "    doc_ref = db.collection(collection_name).document(document_id)\n",
    "    \n",
    "    # Update or set the document with the data from the DataFrame row\n",
    "    doc_ref.set(row.to_dict(), merge=True)  # `merge=True` to update existing fields or add new ones"
   ]
  },
  {
   "cell_type": "code",
   "execution_count": 14,
   "id": "b871013a-9e26-4fe2-90f6-ba351512d13c",
   "metadata": {},
   "outputs": [
    {
     "name": "stdout",
     "output_type": "stream",
     "text": [
      "             datetime                 camera_id        lat       lng\n",
      "0 2024-02-29 17:42:37  6206af3f2ac0770155d598c1  37.404285  22.71935\n",
      "1 2024-02-29 17:42:42  6206af3f2ac0770155d598c1  37.404285  22.71935\n",
      "2 2024-02-29 17:42:51  6206af3f2ac0770155d598c1  37.404285  22.71935\n",
      "3 2024-02-29 17:42:56  6206af3f2ac0770155d598c1  37.404285  22.71935\n",
      "4 2024-02-29 17:43:01  6206af3f2ac0770155d598c1  37.404285  22.71935\n"
     ]
    }
   ],
   "source": [
    "# Path to your CSV file\n",
    "csv_file_path = 'C:\\\\Users\\\\foxel\\\\Desktop\\\\dashcams.csv'\n",
    "# Collection name in Firestore\n",
    "collection_name = 'dashcams'\n",
    "\n",
    "df = pd.read_csv(csv_file_path)\n",
    "df[\"datetime\"] = [pd.to_datetime(x) for x in df[\"datetime\"]]\n",
    "print(df.head())\n",
    "\n",
    "\n",
    "# Add DataFrame rows to Firestore\n",
    "for index, row in df.iterrows():\n",
    "    document_id = f\"{row['datetime']}_{row['camera_id']}\"\n",
    "    \n",
    "    doc_ref = db.collection(collection_name).document(document_id)\n",
    "    \n",
    "    # Update or set the document with the data from the DataFrame row\n",
    "    doc_ref.set(row.to_dict(), merge=True)  # `merge=True` to update existing fields or add new ones"
   ]
  },
  {
   "cell_type": "code",
   "execution_count": 13,
   "id": "a57c1e0c-9634-4c4f-8340-07b3241ec6a7",
   "metadata": {},
   "outputs": [
    {
     "name": "stdout",
     "output_type": "stream",
     "text": [
      "             datetime camera_id  anomaly_type  weather_type  wetness_type\n",
      "0 2024-07-21 05:10:27      1703             1             1             0\n",
      "1 2024-07-21 05:15:31      1703             1             3             2\n"
     ]
    }
   ],
   "source": [
    "# Path to your CSV file\n",
    "csv_file_path = 'C:\\\\Users\\\\foxel\\\\Desktop\\\\image_analysis.csv'\n",
    "# Collection name in Firestore\n",
    "collection_name = 'image_analysis'\n",
    "\n",
    "df = pd.read_csv(csv_file_path)\n",
    "df[\"camera_id\"] = [str(x) for x in df[\"camera_id\"]]\n",
    "df[\"datetime\"] = [pd.to_datetime(x) for x in df[\"datetime\"]]\n",
    "\n",
    "print(df.head())\n",
    "\n",
    "\n",
    "# Add DataFrame rows to Firestore\n",
    "for index, row in df.iterrows():\n",
    "    document_id = f\"{row['datetime']}_{row['camera_id']}\"\n",
    "    \n",
    "    doc_ref = db.collection(collection_name).document(document_id)\n",
    "    \n",
    "    # Update or set the document with the data from the DataFrame row\n",
    "    doc_ref.set(row.to_dict(), merge=True)  # `merge=True` to update existing fields or add new ones"
   ]
  },
  {
   "cell_type": "code",
   "execution_count": 15,
   "id": "4c65fe9e-4aba-41eb-a6a0-170c34bc7fd8",
   "metadata": {},
   "outputs": [
    {
     "name": "stdout",
     "output_type": "stream",
     "text": [
      "             datetime camera_id  total_pedestrians  total_vehicles  bicycle  \\\n",
      "0 2024-07-21 05:15:31      1703                  0               6        0   \n",
      "1 2024-07-21 05:10:27      1703                  0               6        0   \n",
      "2 2024-07-21 05:05:24      1703                  1               6        0   \n",
      "3 2024-07-21 05:00:17      1703                  0               4        0   \n",
      "4 2024-07-21 04:55:33      1703                  0              11        0   \n",
      "\n",
      "   bus  motorcycle  person  truck  car  \n",
      "0    1           0       0      2    3  \n",
      "1    0           0       0      0    6  \n",
      "2    0           0       1      2    4  \n",
      "3    0           0       0      0    4  \n",
      "4    0           0       0      0   11  \n"
     ]
    }
   ],
   "source": [
    "# Path to your CSV file\n",
    "csv_file_path = 'C:\\\\Users\\\\foxel\\\\Desktop\\\\vehicle_counts.csv'\n",
    "# Collection name in Firestore\n",
    "collection_name = 'vehicle_counts'\n",
    "\n",
    "df = pd.read_csv(csv_file_path)\n",
    "df[\"camera_id\"] = [str(x) for x in df[\"camera_id\"]]\n",
    "df[\"datetime\"] = [pd.to_datetime(x) for x in df[\"datetime\"]]\n",
    "\n",
    "print(df.head())\n",
    "\n",
    "\n",
    "# Add DataFrame rows to Firestore\n",
    "for index, row in df.iterrows():\n",
    "    document_id = f\"{row['datetime']}_{row['camera_id']}\"\n",
    "    \n",
    "    doc_ref = db.collection(collection_name).document(document_id)\n",
    "    \n",
    "    # Update or set the document with the data from the DataFrame row\n",
    "    doc_ref.set(row.to_dict(), merge=True)  # `merge=True` to update existing fields or add new ones"
   ]
  },
  {
   "cell_type": "code",
   "execution_count": 17,
   "id": "42727036-2af1-4802-bf83-f4fbd11290b8",
   "metadata": {},
   "outputs": [
    {
     "name": "stdout",
     "output_type": "stream",
     "text": [
      "             datetime    temp  feels_like  temp_min  temp_max  pressure  \\\n",
      "0 2024-07-21 05:19:49  302.11      307.57    302.07    302.17      1009   \n",
      "1 2024-07-21 05:10:30  302.11      307.57    301.17    302.12      1009   \n",
      "2 2024-07-21 05:02:00  302.07      307.46    301.17    302.07      1009   \n",
      "3 2024-07-21 05:00:04  302.07      307.46    301.17    302.07      1009   \n",
      "4 2024-07-21 04:47:10  302.11      307.57    301.17    302.12      1009   \n",
      "\n",
      "   humidity  wind_speed  wind_deg  clouds_all  visibility     lat       lon  \\\n",
      "0        79        3.09       140          75       10000  1.2897  103.8501   \n",
      "1        79        3.09       140          75       10000  1.2897  103.8501   \n",
      "2        79        4.63       140          75       10000  1.2897  103.8501   \n",
      "3        79        4.63       140          75       10000  1.2897  103.8501   \n",
      "4        79        4.63       140          75       10000  1.2897  103.8501   \n",
      "\n",
      "           dt  timezone  weather_id weather    description  \n",
      "0  1721510389     28800         803  Clouds  broken clouds  \n",
      "1  1721509830     28800         803  Clouds  broken clouds  \n",
      "2  1721509320     28800         803  Clouds  broken clouds  \n",
      "3  1721509204     28800         803  Clouds  broken clouds  \n",
      "4  1721508430     28800         803  Clouds  broken clouds  \n"
     ]
    }
   ],
   "source": [
    "# Path to your CSV file\n",
    "csv_file_path = 'C:\\\\Users\\\\foxel\\\\Desktop\\\\weather.csv'\n",
    "# Collection name in Firestore\n",
    "collection_name = 'weather'\n",
    "\n",
    "df = pd.read_csv(csv_file_path)\n",
    "df[\"datetime\"] = [pd.to_datetime(x) for x in df[\"datetime\"]]\n",
    "\n",
    "print(df.head())\n",
    "\n",
    "\n",
    "# Add DataFrame rows to Firestore\n",
    "for index, row in df.iterrows():\n",
    "    document_id = f\"{row['datetime']}\"\n",
    "    \n",
    "    doc_ref = db.collection(collection_name).document(document_id)\n",
    "    \n",
    "    # Update or set the document with the data from the DataFrame row\n",
    "    doc_ref.set(row.to_dict(), merge=True)  # `merge=True` to update existing fields or add new ones"
   ]
  },
  {
   "cell_type": "code",
   "execution_count": null,
   "id": "9c9e3a47-6327-4a0f-9c33-e49c7e68568c",
   "metadata": {},
   "outputs": [],
   "source": []
  }
 ],
 "metadata": {
  "kernelspec": {
   "display_name": "Python 3 (ipykernel)",
   "language": "python",
   "name": "python3"
  },
  "language_info": {
   "codemirror_mode": {
    "name": "ipython",
    "version": 3
   },
   "file_extension": ".py",
   "mimetype": "text/x-python",
   "name": "python",
   "nbconvert_exporter": "python",
   "pygments_lexer": "ipython3",
   "version": "3.9.13"
  }
 },
 "nbformat": 4,
 "nbformat_minor": 5
}
